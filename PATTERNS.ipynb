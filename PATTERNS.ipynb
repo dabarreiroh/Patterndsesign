{
  "nbformat": 4,
  "nbformat_minor": 0,
  "metadata": {
    "colab": {
      "name": "PATTERNS",
      "provenance": [],
      "collapsed_sections": [],
      "toc_visible": true,
      "include_colab_link": true
    },
    "kernelspec": {
      "name": "python3",
      "display_name": "Python 3"
    },
    "accelerator": "GPU"
  },
  "cells": [
    {
      "cell_type": "markdown",
      "metadata": {
        "id": "view-in-github",
        "colab_type": "text"
      },
      "source": [
        "<a href=\"https://colab.research.google.com/github/dabarreiroh/Patterndsesign/blob/master/PATTERNS.ipynb\" target=\"_parent\"><img src=\"https://colab.research.google.com/assets/colab-badge.svg\" alt=\"Open In Colab\"/></a>"
      ]
    },
    {
      "cell_type": "code",
      "metadata": {
        "id": "15Zt_0sJiA0y",
        "colab": {
          "base_uri": "https://localhost:8080/"
        },
        "outputId": "10e85cbe-73cb-4eb0-edc5-843c0cdc35e3"
      },
      "source": [
        "# Seleccionamos la versión más reciente de tensorflow 2.\n",
        "try:\n",
        "    %tensorflow_version 2.x\n",
        "    %load_ext tensorboard\n",
        "except Exception:\n",
        "    pass\n",
        "import tensorflow as tf\n",
        "import pandas as pd\n",
        "import numpy as np\n",
        "import matplotlib.pyplot as plt\n",
        "import os, random\n",
        "from pprint import pprint\n",
        "%matplotlib inline\n",
        "plt.style.use(\"ggplot\")\n",
        "# Seleccionamos una semilla para los RNG\n",
        "tf.random.set_seed(123)\n",
        "np.random.seed(123)"
      ],
      "execution_count": 7,
      "outputs": [
        {
          "output_type": "stream",
          "text": [
            "The tensorboard extension is already loaded. To reload it, use:\n",
            "  %reload_ext tensorboard\n"
          ],
          "name": "stdout"
        }
      ]
    },
    {
      "cell_type": "code",
      "metadata": {
        "id": "5si8UkD2lS5J"
      },
      "source": [
        "pd.set_option(\"display.max_rows\", None, \"display.max_columns\", None)"
      ],
      "execution_count": 8,
      "outputs": []
    },
    {
      "cell_type": "code",
      "metadata": {
        "id": "aWzUcAaGMv7n"
      },
      "source": [
        "tickets = pd.read_csv('datasetpatterns.csv', sep=',',low_memory=False)"
      ],
      "execution_count": 9,
      "outputs": []
    },
    {
      "cell_type": "code",
      "metadata": {
        "id": "CrPqgg9Wh03Q"
      },
      "source": [
        "clients=pd.read_csv('clients.csv', sep=',',low_memory=False)"
      ],
      "execution_count": 10,
      "outputs": []
    },
    {
      "cell_type": "code",
      "metadata": {
        "id": "yZl5JlP-uOra"
      },
      "source": [
        "tickets['listregistrant']=tickets.listregistrant.map(lambda x: \"REGISTRANTDTP:\"+str(x).replace(\" \",\"\"))\n",
        "tickets['listregistrar']=tickets.listregistrar.map(lambda x: \"REGISTRARTDTP:\"+str(x).replace(\" \",\"\"))\n",
        "tickets['listhosting']=tickets.listhosting.map(lambda x: \"HOSTINGDTP:\"+str(x).replace(\" \",\"\"))\n",
        "tickets['listcountry']=tickets.listcountry.map(lambda x: \"PAISDTP:\"+str(x).replace(\" \",\"\"))\n"
      ],
      "execution_count": 11,
      "outputs": []
    },
    {
      "cell_type": "code",
      "metadata": {
        "id": "s1nqiAlJiBLL"
      },
      "source": [
        "clients=clients[[\"'cli_id_client'\",\"'cli_public_id'\"]]"
      ],
      "execution_count": 12,
      "outputs": []
    },
    {
      "cell_type": "code",
      "metadata": {
        "id": "1yOrRjNCiUzd"
      },
      "source": [
        "tickets=tickets.set_index(\"'tic_id_client'\").join(clients.set_index(\"'cli_id_client'\"))"
      ],
      "execution_count": 13,
      "outputs": []
    },
    {
      "cell_type": "code",
      "metadata": {
        "id": "ky72CGKkBpBX"
      },
      "source": [
        "tickets=tickets[tickets[\"'tic_ip'\"].notna() & tickets['listcountry'].notna() & tickets['listhosting'].notna() &  tickets['listregistrar'].notna() & tickets[\"'cli_public_id'\"].notna()&tickets['listregistrant'].notna()]"
      ],
      "execution_count": 14,
      "outputs": []
    },
    {
      "cell_type": "code",
      "metadata": {
        "id": "nezN52vkAzPj",
        "colab": {
          "base_uri": "https://localhost:8080/"
        },
        "outputId": "e5cd4711-8d4d-4b7b-9e69-8c13fc7c36d0"
      },
      "source": [
        "tickets.columns"
      ],
      "execution_count": 15,
      "outputs": [
        {
          "output_type": "execute_result",
          "data": {
            "text/plain": [
              "Index(['Unnamed: 0', ''tic_country_attack'', ''tic_domain'', ''tic_ip'',\n",
              "       ''tic_url'', 'listregistrant', 'listregistrar', 'listhosting',\n",
              "       'listcountry', ''cli_public_id''],\n",
              "      dtype='object')"
            ]
          },
          "metadata": {
            "tags": []
          },
          "execution_count": 15
        }
      ]
    },
    {
      "cell_type": "code",
      "metadata": {
        "id": "IZ5IgIoVPDlg"
      },
      "source": [
        "tickets=tickets[[\"'tic_country_attack'\",\"'tic_domain'\",\"'tic_ip'\",\"'tic_url'\",'listregistrant', 'listregistrar',\n",
        "       'listhosting', 'listcountry',\"'cli_public_id'\"]]"
      ],
      "execution_count": 16,
      "outputs": []
    },
    {
      "cell_type": "code",
      "metadata": {
        "id": "Ivd_QMfgPuEr"
      },
      "source": [
        "tickets['simpleurl']=tickets[\"'tic_url'\"].map(lambda x: '/'.join([str(elem) for elem in x.split('//')[-1].split('/')[1:]]) if (x.split('//')[-1].split('/')[1:]!=(['']))and(x.split('//')[-1].split('/')[1:]!=([])) else np.nan)"
      ],
      "execution_count": 17,
      "outputs": []
    },
    {
      "cell_type": "code",
      "metadata": {
        "id": "VxFiVEd8jXcm"
      },
      "source": [
        "tickets['simpleurl']=tickets['simpleurl'].map(lambda x: \"PATHDTP:\"+str(x).replace(\" \",\"\"))"
      ],
      "execution_count": 18,
      "outputs": []
    },
    {
      "cell_type": "code",
      "metadata": {
        "id": "j_MxSFCUBzPV"
      },
      "source": [
        "tickets=tickets[tickets.simpleurl.notna()]"
      ],
      "execution_count": 19,
      "outputs": []
    },
    {
      "cell_type": "code",
      "metadata": {
        "id": "BecpBiw0g9GQ"
      },
      "source": [
        "paths=[]\n",
        "for element in tickets.simpleurl.to_list():\n",
        "  try:\n",
        "    paths=paths+element\n",
        "  except:\n",
        "    paths=paths+[\"xyzxyzxyz\"]\n"
      ],
      "execution_count": 20,
      "outputs": []
    },
    {
      "cell_type": "markdown",
      "metadata": {
        "id": "HVGeNZ9WJnRN"
      },
      "source": [
        "Nuestro vocabulario (a nivel de caracter) está conformado de la siguiente forma:"
      ]
    },
    {
      "cell_type": "code",
      "metadata": {
        "id": "ih-q2uZ0RYKH"
      },
      "source": [
        "listtype=lambda x: [str(i) for i in x]"
      ],
      "execution_count": 21,
      "outputs": []
    },
    {
      "cell_type": "code",
      "metadata": {
        "id": "NHjGSbBwR1PQ"
      },
      "source": [
        "tickets=tickets[tickets.simpleurl.notna()]"
      ],
      "execution_count": 22,
      "outputs": []
    },
    {
      "cell_type": "code",
      "metadata": {
        "id": "h95u72BdW-e4"
      },
      "source": [
        "tickets[\"'cli_public_id'\"]=listtype(tickets[\"'cli_public_id'\"])\n",
        "tickets[\"'tic_ip'\"]=listtype(tickets[\"'tic_ip'\"])\n",
        "tickets['simpleurl']=listtype(tickets['simpleurl'])\n",
        "tickets['listregistrant']=listtype(tickets['listregistrant'])"
      ],
      "execution_count": 23,
      "outputs": []
    },
    {
      "cell_type": "code",
      "metadata": {
        "id": "FPaxbtc8iIT_"
      },
      "source": [
        "tickets['text']=tickets[[\"'cli_public_id'\",\"'tic_ip'\",'listregistrant','listregistrar','listhosting','listcountry','simpleurl']].apply(lambda x: ' '.join(x), axis=1)"
      ],
      "execution_count": 24,
      "outputs": []
    },
    {
      "cell_type": "code",
      "metadata": {
        "id": "bP443VBB_ry-"
      },
      "source": [
        "text=tickets.text.map(lambda x: x.split(' '))"
      ],
      "execution_count": 25,
      "outputs": []
    },
    {
      "cell_type": "code",
      "metadata": {
        "id": "9e6sJg39BHaD"
      },
      "source": [
        "text=text.map(lambda x: [element for element in x if element!=''])"
      ],
      "execution_count": 26,
      "outputs": []
    },
    {
      "cell_type": "code",
      "metadata": {
        "id": "9oarCfhyFt7a"
      },
      "source": [
        "texto=text.sum()"
      ],
      "execution_count": 27,
      "outputs": []
    },
    {
      "cell_type": "code",
      "metadata": {
        "id": "qJhooSEaY-Ht"
      },
      "source": [
        "client=tickets[\"'cli_public_id'\"].unique()\n",
        "ip=tickets[\"'tic_ip'\"].unique()\n",
        "path=tickets['simpleurl'].unique()\n",
        "registrant=tickets['listregistrant'].unique()\n",
        "registrar=tickets['listregistrar'].unique()\n",
        "hosting=tickets['listhosting'].unique()\n",
        "country=tickets['listcountry'].unique()"
      ],
      "execution_count": 28,
      "outputs": []
    },
    {
      "cell_type": "code",
      "metadata": {
        "id": "nDLuRF_xhoNW"
      },
      "source": [
        "vocabA={client[i]:i for i in range(len(client))}\n",
        "vocabB={ip[i]:i+len(vocabA) for i in range(len(ip))}\n",
        "vocabC={path[i]:i+len(vocabA)+len(vocabB) for i in range(len(path))}\n",
        "vocabD={registrant[i]:i+len(vocabA)+len(vocabB)+len(vocabC) for i in range(len(registrant))}\n",
        "vocabE={registrar[i]:i+len(vocabA)+len(vocabB)+len(vocabC)+len(vocabD) for i in range(len(registrar))}\n",
        "vocabF={hosting[i]:i+len(vocabA)+len(vocabB)+len(vocabC)+len(vocabD)+len(vocabE) for i in range(len(hosting))}\n",
        "vocabG={country[i]:i+len(vocabA)+len(vocabB)+len(vocabC)+len(vocabD)+len(vocabE)+len(vocabF) for i in range(len(country))}"
      ],
      "execution_count": 29,
      "outputs": []
    },
    {
      "cell_type": "code",
      "metadata": {
        "id": "oogYZhv-hwAw"
      },
      "source": [
        "reversevocabA={i:client[i] for i in range(len(client))}\n",
        "reversevocabB={i+len(reversevocabA):ip[i] for i in range(len(ip))}\n",
        "reversevocabC={i+len(reversevocabA)+len(reversevocabB):path[i] for i in range(len(path))}\n",
        "reversevocabD={i+len(reversevocabA)+len(reversevocabB)+len(reversevocabC):registrant[i] for i in range(len(registrant))}\n",
        "reversevocabE={i+len(reversevocabA)+len(reversevocabB)+len(reversevocabC)+len(reversevocabD):registrar[i] for i in range(len(registrar))}\n",
        "reversevocabF={i+len(reversevocabA)+len(reversevocabB)+len(reversevocabC)+len(reversevocabD)+len(reversevocabE):hosting[i] for i in range(len(hosting))}\n",
        "reversevocabG={i+len(reversevocabA)+len(reversevocabB)+len(reversevocabC)+len(reversevocabD)+len(reversevocabE)+len(reversevocabF):country[i] for i in range(len(country))}"
      ],
      "execution_count": 30,
      "outputs": []
    },
    {
      "cell_type": "code",
      "metadata": {
        "id": "dXD3CYt_d95T"
      },
      "source": [
        "vocab=vocabA\n",
        "vocab.update(vocabB)\n",
        "vocab.update(vocabC)\n",
        "vocab.update(vocabD)\n",
        "vocab.update(vocabE)\n",
        "vocab.update(vocabF)\n",
        "vocab.update(vocabG)"
      ],
      "execution_count": 31,
      "outputs": []
    },
    {
      "cell_type": "code",
      "metadata": {
        "id": "5oPmBrhA-GbD"
      },
      "source": [
        "reversevocab=reversevocabA\n",
        "reversevocab.update(reversevocabB)\n",
        "reversevocab.update(reversevocabC)\n",
        "reversevocab.update(reversevocabD)\n",
        "reversevocab.update(reversevocabE)\n",
        "reversevocab.update(reversevocabF)\n",
        "reversevocab.update(reversevocabG)\n"
      ],
      "execution_count": 32,
      "outputs": []
    },
    {
      "cell_type": "code",
      "metadata": {
        "id": "BEOiiUC-JrZn",
        "colab": {
          "base_uri": "https://localhost:8080/"
        },
        "outputId": "623d9f5c-c269-4d37-d17e-87bf46a84150"
      },
      "source": [
        "# obtenemos los carácteres únicos en el texto\n",
        "vocab_size = len(vocab)\n",
        "print(f'Se encontraron {vocab_size} carácteres únicos')\n"
      ],
      "execution_count": 33,
      "outputs": [
        {
          "output_type": "stream",
          "text": [
            "Se encontraron 83292 carácteres únicos\n"
          ],
          "name": "stdout"
        }
      ]
    },
    {
      "cell_type": "code",
      "metadata": {
        "id": "NLKL9BJKWMdZ",
        "colab": {
          "base_uri": "https://localhost:8080/"
        },
        "outputId": "36d866c8-9cf1-4d02-b0cc-2728fff88394"
      },
      "source": [
        "# LUT para convertir de caracter a entero\n",
        "char2idx = {i:u for u, i in enumerate(vocab)}\n",
        "\n",
        "# mostramos la codificación de los primeros 20 carácteres\n",
        "print('{')\n",
        "for char,_ in zip(char2idx, range(20)):\n",
        "    print(f'  {repr(char):4s}: {char2idx[char]:3d}')\n",
        "print('  ...\\n}')"
      ],
      "execution_count": 34,
      "outputs": [
        {
          "output_type": "stream",
          "text": [
            "{\n",
            "  'BBHD':   0\n",
            "  'EASYSOL':   1\n",
            "  'BODD':   2\n",
            "  'BanEstadoChile':   3\n",
            "  'BanReservas':   4\n",
            "  'BPOD':   5\n",
            "  'BCOPICHI':   6\n",
            "  'BANG':   7\n",
            "  'BBGN':   8\n",
            "  'BGRECU':   9\n",
            "  'BPACIF':  10\n",
            "  'BCOOME':  11\n",
            "  'COPFAV':  12\n",
            "  'PICHINCHA-COL':  13\n",
            "  'PRDUBANK':  14\n",
            "  'BAFIRM':  15\n",
            "  'BINTCH':  16\n",
            "  'BANGAB':  17\n",
            "  'FALACL':  18\n",
            "  'FALAPE':  19\n",
            "  ...\n",
            "}\n"
          ],
          "name": "stdout"
        }
      ]
    },
    {
      "cell_type": "code",
      "metadata": {
        "id": "iUpa4KawQ0N3"
      },
      "source": [
        "newlist = list()\n",
        "for i in vocab.keys():\n",
        "    newlist.append(i)"
      ],
      "execution_count": 35,
      "outputs": []
    },
    {
      "cell_type": "code",
      "metadata": {
        "id": "EmVz3jVTXMoN",
        "colab": {
          "base_uri": "https://localhost:8080/"
        },
        "outputId": "00979613-a6e7-450d-9df8-aefe075082b9"
      },
      "source": [
        "# LUT para convertir de entero a string\n",
        "idx2char = np.array(newlist)\n",
        "len(idx2char)"
      ],
      "execution_count": 36,
      "outputs": [
        {
          "output_type": "execute_result",
          "data": {
            "text/plain": [
              "83292"
            ]
          },
          "metadata": {
            "tags": []
          },
          "execution_count": 36
        }
      ]
    },
    {
      "cell_type": "code",
      "metadata": {
        "id": "KcEWlq80XQjv"
      },
      "source": [
        "# convertimos todo el texto a enteros:\n",
        "text_as_int=[]\n",
        "for c in texto:\n",
        "  try:\n",
        "    text_as_int.append(vocab[c])\n",
        "  except Exception as e:\n",
        "    pass"
      ],
      "execution_count": 37,
      "outputs": []
    },
    {
      "cell_type": "code",
      "metadata": {
        "id": "komeyL4_NNfl"
      },
      "source": [
        "text_as_int=np.array(text_as_int)"
      ],
      "execution_count": 38,
      "outputs": []
    },
    {
      "cell_type": "code",
      "metadata": {
        "id": "pfBLfAeRYB3j",
        "colab": {
          "base_uri": "https://localhost:8080/"
        },
        "outputId": "097bb891-b7ee-471d-dbd0-e16b7c29ccad"
      },
      "source": [
        "print(f\"Carácteres originales:\\n\\t{repr(texto[10:30])}\")\n",
        "print(f\"Codificación:\\n\\t{text_as_int[10:30]}\")"
      ],
      "execution_count": 39,
      "outputs": [
        {
          "output_type": "stream",
          "text": [
            "Carácteres originales:\n",
            "\t['REGISTRARTDTP:GoDaddy.com,LLC', 'HOSTINGDTP:HGBLOCK-4', 'PAISDTP:UK', 'PATHDTP:wp-content/bhd/bhd2/', 'BBHD', '199.188.200.225', 'REGISTRANTDTP:nan', 'REGISTRARTDTP:nan', 'HOSTINGDTP:NCNET-1', 'PAISDTP:nan', 'PATHDTP:nan', 'BBHD', '35.173.211.168', 'REGISTRANTDTP:LegalDepartment', 'REGISTRARTDTP:MarkMonitor,Inc.', 'HOSTINGDTP:AT-88-Z', 'PAISDTP:US', 'PATHDTP:login/index.php', 'BBHD', '198.54.125.95']\n",
            "Codificación:\n",
            "\t[80357 80918 83016 31822     0   240 68578 80358 80919 83017 31823     0\n",
            "   241 68579 80359 80920 83018 31824     0   242]\n"
          ],
          "name": "stdout"
        }
      ]
    },
    {
      "cell_type": "code",
      "metadata": {
        "id": "sdIdxSYoZU6u",
        "colab": {
          "base_uri": "https://localhost:8080/"
        },
        "outputId": "e2d85452-e9f3-4f2e-8530-4261da80697d"
      },
      "source": [
        "# definimos la longitud de cada secuencia\n",
        "seq_length = 6\n",
        "# definimos el número de ejemplos que verá la red en cada época\n",
        "examples_per_epoch = len(texto) // (seq_length + 1)\n",
        "# creamos un dataset con la representación vectorizada\n",
        "char_dataset = tf.data.Dataset.from_tensor_slices(text_as_int)\n",
        "# mostramos un ejemplo con un batch de tamaño 10\n",
        "for i in char_dataset.take(7):\n",
        "    print(idx2char[i])"
      ],
      "execution_count": 40,
      "outputs": [
        {
          "output_type": "stream",
          "text": [
            "BBHD\n",
            "63.250.38.253\n",
            "REGISTRANTDTP:WhoisGuardProtected\n",
            "REGISTRARTDTP:NAMECHEAPINC\n",
            "HOSTINGDTP:NAMEC-4\n",
            "PAISDTP:PA\n",
            "PATHDTP:https/_/_/bhdleon.com.do/azul/wps/portal/BHD/Inicio/!ut/p/z1/\n"
          ],
          "name": "stdout"
        }
      ]
    },
    {
      "cell_type": "markdown",
      "metadata": {
        "id": "sQN-sIlraF6N"
      },
      "source": [
        "Utilizamos el método ```batch``` para convertir las secuencias al tamaño que deseamos"
      ]
    },
    {
      "cell_type": "code",
      "metadata": {
        "id": "SHTN-8BuaJyb",
        "colab": {
          "base_uri": "https://localhost:8080/"
        },
        "outputId": "766a94ab-c847-42b1-d268-059cc65bdbf0"
      },
      "source": [
        "# obtenemos las secuencias de tamaño 100 + 1\n",
        "sequences = char_dataset.batch(seq_length+1, drop_remainder=True)\n",
        "# mostramos las primeras 5 secuencias\n",
        "for item in sequences.take(10):\n",
        "    print(repr(' '.join(idx2char[item.numpy()])))"
      ],
      "execution_count": 41,
      "outputs": [
        {
          "output_type": "stream",
          "text": [
            "'BBHD 63.250.38.253 REGISTRANTDTP:WhoisGuardProtected REGISTRARTDTP:NAMECHEAPINC HOSTINGDTP:NAMEC-4 PAISDTP:PA PATHDTP:https/_/_/bhdleon.com.do/azul/wps/portal/BHD/Inicio/!ut/p/z1/'\n",
            "'BBHD 108.167.140.148 REGISTRANTDTP:nan REGISTRARTDTP:GoDaddy.com,LLC HOSTINGDTP:HGBLOCK-4 PAISDTP:UK PATHDTP:wp-content/bhd/bhd2/'\n",
            "'BBHD 199.188.200.225 REGISTRANTDTP:nan REGISTRARTDTP:nan HOSTINGDTP:NCNET-1 PAISDTP:nan PATHDTP:nan'\n",
            "'BBHD 35.173.211.168 REGISTRANTDTP:LegalDepartment REGISTRARTDTP:MarkMonitor,Inc. HOSTINGDTP:AT-88-Z PAISDTP:US PATHDTP:login/index.php'\n",
            "'BBHD 198.54.125.95 REGISTRANTDTP:WhoisGuardProtected REGISTRARTDTP:NAMECHEAPINC HOSTINGDTP:NAMEC-4 PAISDTP:PA PATHDTP:DO/COVID-19/wps/portal/BHD/Inicio/!ut/p/z1/'\n",
            "'BBHD 5.101.152.163 REGISTRANTDTP:nan REGISTRARTDTP:nan HOSTINGDTP:RIPE-5 PAISDTP:nan PATHDTP:BHD/bhd/wps/portal/BHD/Inicio/!ut/p/z1/04_Sj9CPykssy0xPLMnMz0vMAfIjo8ziTSxdDDxNTAy93T3/dz/d5/L2dBISEvZ0FBIS9nQSEh/'\n",
            "'BBHD 51.83.110.181 REGISTRANTDTP:nan REGISTRARTDTP:nan HOSTINGDTP:RIPE-ERX-51 PAISDTP:nan PATHDTP:BHD/bhd/wps/portal/BHD/Inicio/!ut/p/z1/04_Sj9CPykssy0xPLMnMz0vMAfIjo8ziTSxdDDxNTAy93T3/dz/d5/L2dBISEvZ0FBIS9nQSEh/'\n",
            "'BBHD 213.186.33.4 REGISTRANTDTP:nan REGISTRARTDTP:nan HOSTINGDTP:RIPE-213 PAISDTP:nan PATHDTP:modules/vtemskitter/img/ytre/'\n",
            "'BBHD 148.66.138.126 REGISTRANTDTP:RegistrationPrivate REGISTRARTDTP:GoDaddy.com,LLC HOSTINGDTP:APNIC PAISDTP:US PATHDTP:nan'\n",
            "'BBHD 162.0.232.236 REGISTRANTDTP:WhoisGuardProtected REGISTRARTDTP:NAMECHEAPINC HOSTINGDTP:NAMEC-4 PAISDTP:PA PATHDTP:sauolitol58545654654/papirufo/'\n"
          ],
          "name": "stdout"
        }
      ]
    },
    {
      "cell_type": "code",
      "metadata": {
        "id": "S1hNpLiAbJqR"
      },
      "source": [
        "# creamos una función para separar el último caracter\n",
        "def split_input_target(chunk):\n",
        "    input_text = chunk[:-1]\n",
        "    target_text = chunk[1:]\n",
        "    return input_text, target_text\n",
        "\n",
        "# aplicamos la función a todo el dataset original\n",
        "dataset = sequences.map(split_input_target)"
      ],
      "execution_count": 42,
      "outputs": []
    },
    {
      "cell_type": "code",
      "metadata": {
        "id": "mlGCzS_ubhug",
        "colab": {
          "base_uri": "https://localhost:8080/"
        },
        "outputId": "08d2e6a8-0d29-4880-e434-4f11f3020399"
      },
      "source": [
        "for entrada, salida in dataset.take(10):\n",
        "    print(\"Entrada:\")\n",
        "    print(repr(''.join(idx2char[entrada.numpy()])))\n",
        "    print(\"Salida:\")\n",
        "    print(repr(''.join(idx2char[salida.numpy()])))"
      ],
      "execution_count": 43,
      "outputs": [
        {
          "output_type": "stream",
          "text": [
            "Entrada:\n",
            "'BBHD63.250.38.253REGISTRANTDTP:WhoisGuardProtectedREGISTRARTDTP:NAMECHEAPINCHOSTINGDTP:NAMEC-4PAISDTP:PA'\n",
            "Salida:\n",
            "'63.250.38.253REGISTRANTDTP:WhoisGuardProtectedREGISTRARTDTP:NAMECHEAPINCHOSTINGDTP:NAMEC-4PAISDTP:PAPATHDTP:https/_/_/bhdleon.com.do/azul/wps/portal/BHD/Inicio/!ut/p/z1/'\n",
            "Entrada:\n",
            "'BBHD108.167.140.148REGISTRANTDTP:nanREGISTRARTDTP:GoDaddy.com,LLCHOSTINGDTP:HGBLOCK-4PAISDTP:UK'\n",
            "Salida:\n",
            "'108.167.140.148REGISTRANTDTP:nanREGISTRARTDTP:GoDaddy.com,LLCHOSTINGDTP:HGBLOCK-4PAISDTP:UKPATHDTP:wp-content/bhd/bhd2/'\n",
            "Entrada:\n",
            "'BBHD199.188.200.225REGISTRANTDTP:nanREGISTRARTDTP:nanHOSTINGDTP:NCNET-1PAISDTP:nan'\n",
            "Salida:\n",
            "'199.188.200.225REGISTRANTDTP:nanREGISTRARTDTP:nanHOSTINGDTP:NCNET-1PAISDTP:nanPATHDTP:nan'\n",
            "Entrada:\n",
            "'BBHD35.173.211.168REGISTRANTDTP:LegalDepartmentREGISTRARTDTP:MarkMonitor,Inc.HOSTINGDTP:AT-88-ZPAISDTP:US'\n",
            "Salida:\n",
            "'35.173.211.168REGISTRANTDTP:LegalDepartmentREGISTRARTDTP:MarkMonitor,Inc.HOSTINGDTP:AT-88-ZPAISDTP:USPATHDTP:login/index.php'\n",
            "Entrada:\n",
            "'BBHD198.54.125.95REGISTRANTDTP:WhoisGuardProtectedREGISTRARTDTP:NAMECHEAPINCHOSTINGDTP:NAMEC-4PAISDTP:PA'\n",
            "Salida:\n",
            "'198.54.125.95REGISTRANTDTP:WhoisGuardProtectedREGISTRARTDTP:NAMECHEAPINCHOSTINGDTP:NAMEC-4PAISDTP:PAPATHDTP:DO/COVID-19/wps/portal/BHD/Inicio/!ut/p/z1/'\n",
            "Entrada:\n",
            "'BBHD5.101.152.163REGISTRANTDTP:nanREGISTRARTDTP:nanHOSTINGDTP:RIPE-5PAISDTP:nan'\n",
            "Salida:\n",
            "'5.101.152.163REGISTRANTDTP:nanREGISTRARTDTP:nanHOSTINGDTP:RIPE-5PAISDTP:nanPATHDTP:BHD/bhd/wps/portal/BHD/Inicio/!ut/p/z1/04_Sj9CPykssy0xPLMnMz0vMAfIjo8ziTSxdDDxNTAy93T3/dz/d5/L2dBISEvZ0FBIS9nQSEh/'\n",
            "Entrada:\n",
            "'BBHD51.83.110.181REGISTRANTDTP:nanREGISTRARTDTP:nanHOSTINGDTP:RIPE-ERX-51PAISDTP:nan'\n",
            "Salida:\n",
            "'51.83.110.181REGISTRANTDTP:nanREGISTRARTDTP:nanHOSTINGDTP:RIPE-ERX-51PAISDTP:nanPATHDTP:BHD/bhd/wps/portal/BHD/Inicio/!ut/p/z1/04_Sj9CPykssy0xPLMnMz0vMAfIjo8ziTSxdDDxNTAy93T3/dz/d5/L2dBISEvZ0FBIS9nQSEh/'\n",
            "Entrada:\n",
            "'BBHD213.186.33.4REGISTRANTDTP:nanREGISTRARTDTP:nanHOSTINGDTP:RIPE-213PAISDTP:nan'\n",
            "Salida:\n",
            "'213.186.33.4REGISTRANTDTP:nanREGISTRARTDTP:nanHOSTINGDTP:RIPE-213PAISDTP:nanPATHDTP:modules/vtemskitter/img/ytre/'\n",
            "Entrada:\n",
            "'BBHD148.66.138.126REGISTRANTDTP:RegistrationPrivateREGISTRARTDTP:GoDaddy.com,LLCHOSTINGDTP:APNICPAISDTP:US'\n",
            "Salida:\n",
            "'148.66.138.126REGISTRANTDTP:RegistrationPrivateREGISTRARTDTP:GoDaddy.com,LLCHOSTINGDTP:APNICPAISDTP:USPATHDTP:nan'\n",
            "Entrada:\n",
            "'BBHD162.0.232.236REGISTRANTDTP:WhoisGuardProtectedREGISTRARTDTP:NAMECHEAPINCHOSTINGDTP:NAMEC-4PAISDTP:PA'\n",
            "Salida:\n",
            "'162.0.232.236REGISTRANTDTP:WhoisGuardProtectedREGISTRARTDTP:NAMECHEAPINCHOSTINGDTP:NAMEC-4PAISDTP:PAPATHDTP:sauolitol58545654654/papirufo/'\n"
          ],
          "name": "stdout"
        }
      ]
    },
    {
      "cell_type": "code",
      "metadata": {
        "id": "EH-Mr6KuWhmQ"
      },
      "source": [
        ""
      ],
      "execution_count": 43,
      "outputs": []
    },
    {
      "cell_type": "markdown",
      "metadata": {
        "id": "m4zym_aOdkFR"
      },
      "source": [
        "Ahora, especificamos el número de batches que usaremos para entrenar la red y un tamaño de buffer, el cual es neceario para aleatorizar localmente las observaciones (```tf.data``` carga este número de muestras en memoria para poder aleatorizar el entrenamiento)."
      ]
    },
    {
      "cell_type": "code",
      "metadata": {
        "id": "SW8lgshyeMyH",
        "colab": {
          "base_uri": "https://localhost:8080/"
        },
        "outputId": "0d94d93a-7c22-473c-bde4-40d8de81b8e3"
      },
      "source": [
        "batch_size = 64\n",
        "buffer_size = 10000\n",
        "\n",
        "# creamos el dataset con el batch size y el buffer\n",
        "dataset = dataset.shuffle(buffer_size).batch(batch_size, drop_remainder=True)\n",
        "dataset"
      ],
      "execution_count": 44,
      "outputs": [
        {
          "output_type": "execute_result",
          "data": {
            "text/plain": [
              "<BatchDataset shapes: ((64, 6), (64, 6)), types: (tf.int64, tf.int64)>"
            ]
          },
          "metadata": {
            "tags": []
          },
          "execution_count": 44
        }
      ]
    },
    {
      "cell_type": "code",
      "metadata": {
        "id": "AT0XDYsEO_jS",
        "colab": {
          "base_uri": "https://localhost:8080/"
        },
        "outputId": "843cd03f-89b5-4285-e346-8f783863f705"
      },
      "source": [
        "dataset.take(10)"
      ],
      "execution_count": 45,
      "outputs": [
        {
          "output_type": "execute_result",
          "data": {
            "text/plain": [
              "<TakeDataset shapes: ((64, 6), (64, 6)), types: (tf.int64, tf.int64)>"
            ]
          },
          "metadata": {
            "tags": []
          },
          "execution_count": 45
        }
      ]
    },
    {
      "cell_type": "code",
      "metadata": {
        "id": "RuMSQzWN3XbH",
        "colab": {
          "base_uri": "https://localhost:8080/"
        },
        "outputId": "92efdd0c-4744-4898-8b7a-fe85f0e2df93"
      },
      "source": [
        "dataset"
      ],
      "execution_count": 46,
      "outputs": [
        {
          "output_type": "execute_result",
          "data": {
            "text/plain": [
              "<BatchDataset shapes: ((64, 6), (64, 6)), types: (tf.int64, tf.int64)>"
            ]
          },
          "metadata": {
            "tags": []
          },
          "execution_count": 46
        }
      ]
    },
    {
      "cell_type": "code",
      "metadata": {
        "id": "pcBt7C2odr4m",
        "colab": {
          "base_uri": "https://localhost:8080/",
          "height": 35
        },
        "outputId": "ecfc23e9-583d-4165-8625-2c55851e7314"
      },
      "source": [
        "idx2char[77760]"
      ],
      "execution_count": 47,
      "outputs": [
        {
          "output_type": "execute_result",
          "data": {
            "application/vnd.google.colaboratory.intrinsic+json": {
              "type": "string"
            },
            "text/plain": [
              "'REGISTRANTDTP:saikema'"
            ]
          },
          "metadata": {
            "tags": []
          },
          "execution_count": 47
        }
      ]
    },
    {
      "cell_type": "markdown",
      "metadata": {
        "id": "ks1REggkepPH"
      },
      "source": [
        "## 4. SimpleRNN\n",
        "\n"
      ]
    },
    {
      "cell_type": "code",
      "metadata": {
        "id": "phXkkj7BiRoD",
        "colab": {
          "base_uri": "https://localhost:8080/",
          "height": 607
        },
        "outputId": "781d2bbb-f221-4885-bcd8-202179eb5726"
      },
      "source": [
        "# dimensión del embedding\n",
        "embedding_dim = 256\n",
        "# número de únidades en la capa recurrente\n",
        "rnn_units = 1024\n",
        "\n",
        "model_srnn = tf.keras.Sequential([tf.keras.layers.Embedding(vocab_size, embedding_dim,\n",
        "                                                            batch_input_shape=[batch_size, None]),\n",
        "                                  tf.keras.layers.SimpleRNN(rnn_units,\n",
        "                                                            return_sequences=True, #este argumento hace que el modelo sea many-to-many\n",
        "                                                            stateful=True,\n",
        "                                                            recurrent_initializer='glorot_uniform'),\n",
        "                                  tf.keras.layers.Dense(vocab_size)])\n",
        "model_srnn.summary()\n",
        "tf.keras.utils.plot_model(model_srnn)"
      ],
      "execution_count": 48,
      "outputs": [
        {
          "output_type": "stream",
          "text": [
            "Model: \"sequential\"\n",
            "_________________________________________________________________\n",
            "Layer (type)                 Output Shape              Param #   \n",
            "=================================================================\n",
            "embedding (Embedding)        (64, None, 256)           21322752  \n",
            "_________________________________________________________________\n",
            "simple_rnn (SimpleRNN)       (64, None, 1024)          1311744   \n",
            "_________________________________________________________________\n",
            "dense (Dense)                (64, None, 83292)         85374300  \n",
            "=================================================================\n",
            "Total params: 108,008,796\n",
            "Trainable params: 108,008,796\n",
            "Non-trainable params: 0\n",
            "_________________________________________________________________\n"
          ],
          "name": "stdout"
        },
        {
          "output_type": "execute_result",
          "data": {
            "image/png": "[encoded data removed]",
            "text/plain": [
              "<IPython.core.display.Image object>"
            ]
          },
          "metadata": {
            "tags": []
          },
          "execution_count": 48
        }
      ]
    },
    {
      "cell_type": "code",
      "metadata": {
        "id": "GBtt6FTYvSmi",
        "colab": {
          "base_uri": "https://localhost:8080/"
        },
        "outputId": "6a798b5f-651d-42bd-adb5-11d738b78d17"
      },
      "source": [
        "# obtenemos la predicción para el primer batch\n",
        "for input_example_batch, target_example_batch in dataset.take(1):\n",
        "    example_batch_predictions = model_srnn(input_example_batch)\n",
        "# seleccionamos la secuencia deseada\n",
        "example_pred_seq = example_batch_predictions[0]\n",
        "print(f\"Tamaño de la secuencia de entrada {input_example_batch[0].shape}\")\n",
        "print(f\"Tamaño de la secuencia de salida predicha {example_pred_seq.shape}\")\n",
        "print(f\"Tamaño de la secuencia de salida target {target_example_batch[0].shape}\")\n"
      ],
      "execution_count": 49,
      "outputs": [
        {
          "output_type": "stream",
          "text": [
            "Tamaño de la secuencia de entrada (6,)\n",
            "Tamaño de la secuencia de salida predicha (6, 83292)\n",
            "Tamaño de la secuencia de salida target (6,)\n"
          ],
          "name": "stdout"
        }
      ]
    },
    {
      "cell_type": "markdown",
      "metadata": {
        "id": "4mq_t1EhyqD_"
      },
      "source": [
        "Podemos ver que la predicción para una secuencia de tamaño 100 (códificación en enteros) es una secuencia de tamaño 100 (one-hot). Veamos la distribución del carácter sucesor:"
      ]
    },
    {
      "cell_type": "code",
      "metadata": {
        "id": "SbaLorSgkYb1"
      },
      "source": [
        "#print(\"Entrada: \\n\", repr(\"\".join(idx2char[input_example_batch[0]])))\n",
        "#\n",
        "#plt.figure(figsize=(20,10))\n",
        "#plt.subplot(211)\n",
        "#plt.bar([repr(i) for i in idx2char], example_pred_seq[-1])\n",
        "#plt.xlim([0, 88])\n",
        "#plt.title(\"Logits\")\n",
        "#plt.subplot(212)\n",
        "#plt.bar([repr(i) for i in idx2char], tf.nn.softmax(example_pred_seq[-1]))\n",
        "#plt.xlim([0, 88])\n",
        "#plt.title(\"Probits\")"
      ],
      "execution_count": 50,
      "outputs": []
    },
    {
      "cell_type": "markdown",
      "metadata": {
        "id": "m_toc6WlgjgM"
      },
      "source": [
        "### Entrenamiento\n",
        "\n"
      ]
    },
    {
      "cell_type": "code",
      "metadata": {
        "id": "UJUL95SCu2oZ",
        "colab": {
          "base_uri": "https://localhost:8080/"
        },
        "outputId": "99e10635-d0b1-48d0-97f0-e2993bfa09e9"
      },
      "source": [
        "examples_per_epoch"
      ],
      "execution_count": 51,
      "outputs": [
        {
          "output_type": "execute_result",
          "data": {
            "text/plain": [
              "65273"
            ]
          },
          "metadata": {
            "tags": []
          },
          "execution_count": 51
        }
      ]
    },
    {
      "cell_type": "code",
      "metadata": {
        "id": "5-kU8K-fggnb"
      },
      "source": [
        "def loss(labels, logits):\n",
        "    return tf.keras.losses.sparse_categorical_crossentropy(labels, logits, from_logits=True)"
      ],
      "execution_count": 52,
      "outputs": []
    },
    {
      "cell_type": "code",
      "metadata": {
        "id": "b-gpl3u5mhDn"
      },
      "source": [
        "model_srnn.compile(optimizer='adam', loss=loss)"
      ],
      "execution_count": 53,
      "outputs": []
    },
    {
      "cell_type": "code",
      "metadata": {
        "id": "ZelkdlHen7Sq"
      },
      "source": [
        "# Utilice el siguiente código si desea entrenar el modelo (puede tomar tiempo)\n",
        "\n",
        "checkpoint_callback=tf.keras.callbacks.ModelCheckpoint(\n",
        "    filepath=\"srnn.h5\",\n",
        "    save_weights_only=True)\n",
        "#model_srnn.fit(dataset.repeat(), epochs=20, callbacks=[checkpoint_callback],\n",
        "#               steps_per_epoch=(examples_per_epoch//batch_size))\n"
      ],
      "execution_count": 54,
      "outputs": []
    },
    {
      "cell_type": "code",
      "metadata": {
        "id": "-De-xFo2TMh0",
        "colab": {
          "base_uri": "https://localhost:8080/",
          "height": 442
        },
        "outputId": "2c25f06c-2312-4af8-8160-dee2b20ecd89"
      },
      "source": [
        "#\n",
        "# cargamos los pesos del modelo\n",
        "model_srnn.load_weights(\"srnn.h5\")"
      ],
      "execution_count": 55,
      "outputs": [
        {
          "output_type": "error",
          "ename": "OSError",
          "evalue": "ignored",
          "traceback": [
            "\u001b[0;31m---------------------------------------------------------------------------\u001b[0m",
            "\u001b[0;31mOSError\u001b[0m                                   Traceback (most recent call last)",
            "\u001b[0;32m<ipython-input-55-5068d0a6216a>\u001b[0m in \u001b[0;36m<module>\u001b[0;34m()\u001b[0m\n\u001b[1;32m      1\u001b[0m \u001b[0;31m#\u001b[0m\u001b[0;34m\u001b[0m\u001b[0;34m\u001b[0m\u001b[0;34m\u001b[0m\u001b[0m\n\u001b[1;32m      2\u001b[0m \u001b[0;31m# cargamos los pesos del modelo\u001b[0m\u001b[0;34m\u001b[0m\u001b[0;34m\u001b[0m\u001b[0;34m\u001b[0m\u001b[0m\n\u001b[0;32m----> 3\u001b[0;31m \u001b[0mmodel_srnn\u001b[0m\u001b[0;34m.\u001b[0m\u001b[0mload_weights\u001b[0m\u001b[0;34m(\u001b[0m\u001b[0;34m\"srnn.h5\"\u001b[0m\u001b[0;34m)\u001b[0m\u001b[0;34m\u001b[0m\u001b[0;34m\u001b[0m\u001b[0m\n\u001b[0m",
            "\u001b[0;32m/usr/local/lib/python3.6/dist-packages/tensorflow/python/keras/engine/training.py\u001b[0m in \u001b[0;36mload_weights\u001b[0;34m(self, filepath, by_name, skip_mismatch, options)\u001b[0m\n\u001b[1;32m   2202\u001b[0m           'first, then load the weights.')\n\u001b[1;32m   2203\u001b[0m     \u001b[0mself\u001b[0m\u001b[0;34m.\u001b[0m\u001b[0m_assert_weights_created\u001b[0m\u001b[0;34m(\u001b[0m\u001b[0;34m)\u001b[0m\u001b[0;34m\u001b[0m\u001b[0;34m\u001b[0m\u001b[0m\n\u001b[0;32m-> 2204\u001b[0;31m     \u001b[0;32mwith\u001b[0m \u001b[0mh5py\u001b[0m\u001b[0;34m.\u001b[0m\u001b[0mFile\u001b[0m\u001b[0;34m(\u001b[0m\u001b[0mfilepath\u001b[0m\u001b[0;34m,\u001b[0m \u001b[0;34m'r'\u001b[0m\u001b[0;34m)\u001b[0m \u001b[0;32mas\u001b[0m \u001b[0mf\u001b[0m\u001b[0;34m:\u001b[0m\u001b[0;34m\u001b[0m\u001b[0;34m\u001b[0m\u001b[0m\n\u001b[0m\u001b[1;32m   2205\u001b[0m       \u001b[0;32mif\u001b[0m \u001b[0;34m'layer_names'\u001b[0m \u001b[0;32mnot\u001b[0m \u001b[0;32min\u001b[0m \u001b[0mf\u001b[0m\u001b[0;34m.\u001b[0m\u001b[0mattrs\u001b[0m \u001b[0;32mand\u001b[0m \u001b[0;34m'model_weights'\u001b[0m \u001b[0;32min\u001b[0m \u001b[0mf\u001b[0m\u001b[0;34m:\u001b[0m\u001b[0;34m\u001b[0m\u001b[0;34m\u001b[0m\u001b[0m\n\u001b[1;32m   2206\u001b[0m         \u001b[0mf\u001b[0m \u001b[0;34m=\u001b[0m \u001b[0mf\u001b[0m\u001b[0;34m[\u001b[0m\u001b[0;34m'model_weights'\u001b[0m\u001b[0;34m]\u001b[0m\u001b[0;34m\u001b[0m\u001b[0;34m\u001b[0m\u001b[0m\n",
            "\u001b[0;32m/usr/local/lib/python3.6/dist-packages/h5py/_hl/files.py\u001b[0m in \u001b[0;36m__init__\u001b[0;34m(self, name, mode, driver, libver, userblock_size, swmr, rdcc_nslots, rdcc_nbytes, rdcc_w0, track_order, **kwds)\u001b[0m\n\u001b[1;32m    406\u001b[0m                 fid = make_fid(name, mode, userblock_size,\n\u001b[1;32m    407\u001b[0m                                \u001b[0mfapl\u001b[0m\u001b[0;34m,\u001b[0m \u001b[0mfcpl\u001b[0m\u001b[0;34m=\u001b[0m\u001b[0mmake_fcpl\u001b[0m\u001b[0;34m(\u001b[0m\u001b[0mtrack_order\u001b[0m\u001b[0;34m=\u001b[0m\u001b[0mtrack_order\u001b[0m\u001b[0;34m)\u001b[0m\u001b[0;34m,\u001b[0m\u001b[0;34m\u001b[0m\u001b[0;34m\u001b[0m\u001b[0m\n\u001b[0;32m--> 408\u001b[0;31m                                swmr=swmr)\n\u001b[0m\u001b[1;32m    409\u001b[0m \u001b[0;34m\u001b[0m\u001b[0m\n\u001b[1;32m    410\u001b[0m             \u001b[0;32mif\u001b[0m \u001b[0misinstance\u001b[0m\u001b[0;34m(\u001b[0m\u001b[0mlibver\u001b[0m\u001b[0;34m,\u001b[0m \u001b[0mtuple\u001b[0m\u001b[0;34m)\u001b[0m\u001b[0;34m:\u001b[0m\u001b[0;34m\u001b[0m\u001b[0;34m\u001b[0m\u001b[0m\n",
            "\u001b[0;32m/usr/local/lib/python3.6/dist-packages/h5py/_hl/files.py\u001b[0m in \u001b[0;36mmake_fid\u001b[0;34m(name, mode, userblock_size, fapl, fcpl, swmr)\u001b[0m\n\u001b[1;32m    171\u001b[0m         \u001b[0;32mif\u001b[0m \u001b[0mswmr\u001b[0m \u001b[0;32mand\u001b[0m \u001b[0mswmr_support\u001b[0m\u001b[0;34m:\u001b[0m\u001b[0;34m\u001b[0m\u001b[0;34m\u001b[0m\u001b[0m\n\u001b[1;32m    172\u001b[0m             \u001b[0mflags\u001b[0m \u001b[0;34m|=\u001b[0m \u001b[0mh5f\u001b[0m\u001b[0;34m.\u001b[0m\u001b[0mACC_SWMR_READ\u001b[0m\u001b[0;34m\u001b[0m\u001b[0;34m\u001b[0m\u001b[0m\n\u001b[0;32m--> 173\u001b[0;31m         \u001b[0mfid\u001b[0m \u001b[0;34m=\u001b[0m \u001b[0mh5f\u001b[0m\u001b[0;34m.\u001b[0m\u001b[0mopen\u001b[0m\u001b[0;34m(\u001b[0m\u001b[0mname\u001b[0m\u001b[0;34m,\u001b[0m \u001b[0mflags\u001b[0m\u001b[0;34m,\u001b[0m \u001b[0mfapl\u001b[0m\u001b[0;34m=\u001b[0m\u001b[0mfapl\u001b[0m\u001b[0;34m)\u001b[0m\u001b[0;34m\u001b[0m\u001b[0;34m\u001b[0m\u001b[0m\n\u001b[0m\u001b[1;32m    174\u001b[0m     \u001b[0;32melif\u001b[0m \u001b[0mmode\u001b[0m \u001b[0;34m==\u001b[0m \u001b[0;34m'r+'\u001b[0m\u001b[0;34m:\u001b[0m\u001b[0;34m\u001b[0m\u001b[0;34m\u001b[0m\u001b[0m\n\u001b[1;32m    175\u001b[0m         \u001b[0mfid\u001b[0m \u001b[0;34m=\u001b[0m \u001b[0mh5f\u001b[0m\u001b[0;34m.\u001b[0m\u001b[0mopen\u001b[0m\u001b[0;34m(\u001b[0m\u001b[0mname\u001b[0m\u001b[0;34m,\u001b[0m \u001b[0mh5f\u001b[0m\u001b[0;34m.\u001b[0m\u001b[0mACC_RDWR\u001b[0m\u001b[0;34m,\u001b[0m \u001b[0mfapl\u001b[0m\u001b[0;34m=\u001b[0m\u001b[0mfapl\u001b[0m\u001b[0;34m)\u001b[0m\u001b[0;34m\u001b[0m\u001b[0;34m\u001b[0m\u001b[0m\n",
            "\u001b[0;32mh5py/_objects.pyx\u001b[0m in \u001b[0;36mh5py._objects.with_phil.wrapper\u001b[0;34m()\u001b[0m\n",
            "\u001b[0;32mh5py/_objects.pyx\u001b[0m in \u001b[0;36mh5py._objects.with_phil.wrapper\u001b[0;34m()\u001b[0m\n",
            "\u001b[0;32mh5py/h5f.pyx\u001b[0m in \u001b[0;36mh5py.h5f.open\u001b[0;34m()\u001b[0m\n",
            "\u001b[0;31mOSError\u001b[0m: Unable to open file (unable to open file: name = 'srnn.h5', errno = 2, error message = 'No such file or directory', flags = 0, o_flags = 0)"
          ]
        }
      ]
    },
    {
      "cell_type": "code",
      "metadata": {
        "id": "kLAaJY0YW9bP"
      },
      "source": [
        "# obtenemos la predicción para el primer batch\n",
        "#example_batch_predictions = model_srnn(input_example_batch)\n",
        "# seleccionamos la secuencia deseada\n",
        "#example_pred_seq = example_batch_predictions[0]\n",
        "\n",
        "#print(\"Entrada: \\n\", repr(\"\".join(idx2char[input_example_batch[0]])))\n",
        "#print(f\"Carácter sucesor más probable: {idx2char[np.argmax(example_pred_seq[-1])]}\")\n",
        "#plt.figure(figsize=(20,10))\n",
        "#plt.subplot(211)\n",
        "#plt.bar([repr(i) for i in idx2char], example_pred_seq[-1])\n",
        "#plt.xlim([0, 88])\n",
        "#plt.title(\"Logits\")\n",
        "#plt.subplot(212)\n",
        "#plt.bar([repr(i) for i in idx2char], tf.nn.softmax(example_pred_seq[-1]))\n",
        "#plt.xlim([0, 88])\n",
        "#plt.title(\"Probits\"#)"
      ],
      "execution_count": null,
      "outputs": []
    },
    {
      "cell_type": "markdown",
      "metadata": {
        "id": "p3v187e24YT_"
      },
      "source": [
        "## Long short-term memory\n",
        "\n"
      ]
    },
    {
      "cell_type": "code",
      "metadata": {
        "id": "J_y_qrUXJruu"
      },
      "source": [
        "# dimensión del embedding\n",
        "embedding_dim = 256\n",
        "# número de únidades en la capa recurrente\n",
        "rnn_units = 1024\n",
        "\n",
        "model_lstm = tf.keras.Sequential([tf.keras.layers.Embedding(vocab_size, embedding_dim,\n",
        "                                                            batch_input_shape=[batch_size, None]),\n",
        "                                  tf.keras.layers.LSTM(rnn_units,\n",
        "                                                       return_sequences=True, #este argumento hace que el modelo sea many-to-many\n",
        "                                                       stateful=True,\n",
        "                                                       recurrent_initializer='glorot_uniform'),\n",
        "                                  tf.keras.layers.Dense(vocab_size)])\n",
        "model_lstm.summary()\n",
        "tf.keras.utils.plot_model(model_lstm)"
      ],
      "execution_count": null,
      "outputs": []
    },
    {
      "cell_type": "markdown",
      "metadata": {
        "id": "HVLNds8YYpc2"
      },
      "source": [
        "Veamos las distribuciones predichas por el modelo (pesos aleatorios):"
      ]
    },
    {
      "cell_type": "code",
      "metadata": {
        "id": "jCUjEdI6YqLv"
      },
      "source": [
        "# obtenemos la predicción para el primer batch\n",
        "for input_example_batch, target_example_batch in dataset.take(1):\n",
        "    example_batch_predictions = model_lstm(input_example_batch)\n",
        "# seleccionamos la secuencia deseada\n",
        "example_pred_seq = example_batch_predictions[0]\n",
        "print(f\"Tamaño de la secuencia de entrada {input_example_batch[0].shape}\")\n",
        "print(f\"Tamaño de la secuencia de salida {example_pred_seq.shape}\")"
      ],
      "execution_count": null,
      "outputs": []
    },
    {
      "cell_type": "markdown",
      "metadata": {
        "id": "sQ1fASX_Y3fz"
      },
      "source": [
        "Veamos la distribución del carácter sucesor:"
      ]
    },
    {
      "cell_type": "code",
      "metadata": {
        "id": "jeCuLjCNY4WD"
      },
      "source": [
        "#print(\"Entrada: \\n\", repr(\"\".join(idx2char[input_example_batch[0]])))#\n",
        "#\n",
        "#plt.figure(figsize=(20,10))\n",
        "#plt.subplot(211)\n",
        "#plt.bar([repr(i) for i in idx2char], example_pred_seq[-1])\n",
        "#plt.xlim([0, 88])\n",
        "#plt.title(\"Logits\")\n",
        "#plt.subplot(212)\n",
        "#plt.bar([repr(i) for i in idx2char], tf.nn.softmax(example_pred_seq[-1]))\n",
        "#plt.xlim([0, 88])\n",
        "#plt.title(\"Probits\")"
      ],
      "execution_count": null,
      "outputs": []
    },
    {
      "cell_type": "markdown",
      "metadata": {
        "id": "vfa47bZWgphd"
      },
      "source": [
        "###  Entrenamiento\n",
        "\n"
      ]
    },
    {
      "cell_type": "code",
      "metadata": {
        "id": "0_OxI8hGK4nL"
      },
      "source": [
        "model_lstm.compile(optimizer='adam', loss=loss)"
      ],
      "execution_count": null,
      "outputs": []
    },
    {
      "cell_type": "code",
      "metadata": {
        "id": "tPNbfZH2LEYx"
      },
      "source": [
        "\n",
        "#checkpoint_callback=tf.keras.callbacks.ModelCheckpoint(\n",
        "#    filepath=\"lstm.h5\",\n",
        "#    save_weights_only=True)\n",
        "#model_lstm.fit(dataset.repeat(), epochs=20, callbacks=[checkpoint_callback],\n",
        "#               steps_per_epoch=examples_per_epoch//batch_size)\n"
      ],
      "execution_count": null,
      "outputs": []
    },
    {
      "cell_type": "code",
      "metadata": {
        "id": "lAC6VnsPZPIK"
      },
      "source": [
        "# cargamos los pesos del modelo\n",
        "model_lstm.load_weights(\"lstm.h5\")"
      ],
      "execution_count": null,
      "outputs": []
    },
    {
      "cell_type": "code",
      "metadata": {
        "id": "0iNqpHUtZqB4"
      },
      "source": [
        "# obtenemos la predicción para el primer batch\n",
        "#example_batch_predictions = model_lstm(input_example_batch)\n",
        "# seleccionamos la secuencia deseada\n",
        "#example_pred_seq = example_batch_predictions[0]\n",
        "\n",
        "#print(\"Entrada: \\n\", repr(\"\".join(idx2char[input_example_batch[0]])))\n",
        "#print(f\"Carácter sucesor más probable: {idx2char[np.argmax(example_pred_seq[-1])]}\")\n",
        "#plt.figure(figsize=(20,10))\n",
        "#plt.subplot(211)\n",
        "#plt.bar([repr(i) for i in idx2char], example_pred_seq[-1])\n",
        "#plt.xlim([0, 88])\n",
        "#plt.title(\"Logits\")\n",
        "#plt.subplot(212)\n",
        "#plt.bar([repr(i) for i in idx2char], tf.nn.softmax(example_pred_seq[-1]))\n",
        "#plt.xlim([0, 88])\n",
        "#plt.title(\"Probits\")"
      ],
      "execution_count": null,
      "outputs": []
    },
    {
      "cell_type": "markdown",
      "metadata": {
        "id": "K3jaJ58mmA-D"
      },
      "source": [
        "###GRU"
      ]
    },
    {
      "cell_type": "code",
      "metadata": {
        "id": "sAVFdhd9ktII"
      },
      "source": [
        "# dimensión del embedding\n",
        "embedding_dim = 256\n",
        "# número de únidades en la capa recurrente\n",
        "rnn_units = 1024\n",
        "\n",
        "model_gru = tf.keras.Sequential([tf.keras.layers.Embedding(vocab_size, embedding_dim,\n",
        "                                                           batch_input_shape=[batch_size, None]),\n",
        "                                 tf.keras.layers.GRU(rnn_units,\n",
        "                                                     return_sequences=True, #este argumento hace que el modelo sea many-to-many\n",
        "                                                     stateful=True,\n",
        "                                                     recurrent_initializer='glorot_uniform'),\n",
        "                                 tf.keras.layers.Dense(vocab_size)])\n",
        "model_gru.summary()\n",
        "tf.keras.utils.plot_model(model_gru)"
      ],
      "execution_count": null,
      "outputs": []
    },
    {
      "cell_type": "code",
      "metadata": {
        "id": "qMs4-WdXaIfw"
      },
      "source": [
        "# obtenemos la predicción para el primer batch\n",
        "for input_example_batch, target_example_batch in dataset.take(1):\n",
        "    example_batch_predictions = model_gru(input_example_batch)\n",
        "# seleccionamos la secuencia deseada\n",
        "example_pred_seq = example_batch_predictions[0]\n",
        "print(f\"Tamaño de la secuencia de entrada {input_example_batch[0].shape}\")\n",
        "print(f\"Tamaño de la secuencia de salida {example_pred_seq.shape}\")"
      ],
      "execution_count": null,
      "outputs": []
    },
    {
      "cell_type": "code",
      "metadata": {
        "id": "awJ5Ts-5aV4c"
      },
      "source": [
        "#print(\"Entrada: \\n\", repr(\"\".join(idx2char[input_example_batch[0]])))\n",
        "\n",
        "#plt.figure(figsize=(20,10))\n",
        "#plt.subplot(211)\n",
        "#plt.bar([repr(i) for i in idx2char], example_pred_seq[-1])\n",
        "#plt.xlim([0, 88])\n",
        "#plt.title(\"Logits\")\n",
        "#plt.subplot(212)\n",
        "#plt.bar([repr(i) for i in idx2char], tf.nn.softmax(example_pred_seq[-1]))\n",
        "#plt.xlim([0, 88])\n",
        "#plt.title(\"Probits\")"
      ],
      "execution_count": null,
      "outputs": []
    },
    {
      "cell_type": "markdown",
      "metadata": {
        "id": "CQdTKgApgxnj"
      },
      "source": [
        "### Entrenamiento\n",
        "\n"
      ]
    },
    {
      "cell_type": "code",
      "metadata": {
        "id": "rZ7unzxzlJIQ"
      },
      "source": [
        "model_gru.compile(optimizer='adam', loss=loss)"
      ],
      "execution_count": null,
      "outputs": []
    },
    {
      "cell_type": "code",
      "metadata": {
        "id": "vrm1I03vuHl9"
      },
      "source": [
        "\n",
        "#checkpoint_callback=tf.keras.callbacks.ModelCheckpoint(\n",
        "#    filepath=\"gru.h5\",\n",
        "#    save_weights_only=True)\n",
        "#model_gru.fit(dataset.repeat(), epochs=20, callbacks=[checkpoint_callback],\n",
        "#              steps_per_epoch=examples_per_epoch//batch_size)\n"
      ],
      "execution_count": null,
      "outputs": []
    },
    {
      "cell_type": "code",
      "metadata": {
        "id": "bFvwekfcaqF8"
      },
      "source": [
        "    # cargamos los pesos del modelo\n",
        "model_gru.load_weights(\"gru.h5\")"
      ],
      "execution_count": null,
      "outputs": []
    },
    {
      "cell_type": "code",
      "metadata": {
        "id": "RIrrOkhUa6ow"
      },
      "source": [
        "# obtenemos la predicción para el primer batch\n",
        "#example_batch_predictions = model_gru(input_example_batch)\n",
        "# seleccionamos la secuencia deseada\n",
        "#example_pred_seq = example_batch_predictions[0]\n",
        "\n",
        "#print(\"Entrada: \\n\", repr(\"\".join(idx2char[input_example_batch[0]])))\n",
        "#print(f\"Carácter sucesor más probable: {idx2char[np.argmax(example_pred_seq[-1])]}\")\n",
        "#plt.figure(figsize=(20,10))\n",
        "#plt.subplot(211)\n",
        "#plt.bar([repr(i) for i in idx2char], example_pred_seq[-1])\n",
        "#plt.xlim([0, 88])\n",
        "#plt.title(\"Logits\")\n",
        "#plt.subplot(212)\n",
        "#plt.bar([repr(i) for i in idx2char], tf.nn.softmax(example_pred_seq[-1]))\n",
        "#plt.xlim([0, 88])\n",
        "#plt.title(\"Probits\")"
      ],
      "execution_count": null,
      "outputs": []
    },
    {
      "cell_type": "code",
      "metadata": {
        "id": "HuOs6un9bxQf"
      },
      "source": [
        "# Función que calcula la probabilidad de un Texto de acuerdo a la fórmula dada anteriormente:\n",
        "def log_likelihood(model, text):\n",
        "    res = []\n",
        "    for i,char in enumerate(\" \".split(text)[:-1]):\n",
        "        # creamos un batch de ceros de secuencias de tamaño 1\n",
        "        text_int = np.zeros((64,1))\n",
        "        # asignamos la codificación del caracter\n",
        "        text_int[0] = char2idx[char]\n",
        "        # obtenemos la distribución del carácter sucesor\n",
        "        probs = tf.nn.softmax(model.predict(text_int, batch_size=64)[0,-1])\n",
        "        # calculamos el log-likelihood del siguiente caracter\n",
        "        res.append(probs[char2idx[text[i+1]]].numpy())\n",
        "    return np.log(res).sum()"
      ],
      "execution_count": null,
      "outputs": []
    },
    {
      "cell_type": "code",
      "metadata": {
        "id": "aVWFne_7uYBY"
      },
      "source": [
        "log_likelihood(model_srnn,\"BBHD 198.54.125.95 REGISTRANTDTP:WhoisGuardProtected REGISTRARTDTP:NAMECHEAPINC HOSTINGDTP:NAMEC-4 PAISDTP:PA\")"
      ],
      "execution_count": null,
      "outputs": []
    },
    {
      "cell_type": "markdown",
      "metadata": {
        "id": "jwXxhaO_zu7W"
      },
      "source": [
        "Ahora, veamos el texto generado con cada uno de los modelos entrenados:\n",
        "\n",
        "* **SimpleRNN**:"
      ]
    },
    {
      "cell_type": "markdown",
      "metadata": {
        "id": "OhtB23Xd56ic"
      },
      "source": [
        "Comenzamos generando texto con un valor de temperatura bajo:"
      ]
    },
    {
      "cell_type": "code",
      "metadata": {
        "id": "CfZw49Mmv8Dp"
      },
      "source": [
        "def generate_text(model, start_string, text_len=np.random.randint(10), temperature=0.3):\n",
        "    \n",
        "    # vectorizamos el string inicial\n",
        "    start_string=start_string.split(' ')\n",
        "    #start_string=start_string[0]+start_string[1].replace('',' ')\n",
        "    #print(start_string)\n",
        "    input_eval = [char2idx[s] for s in start_string]\n",
        "    input_eval = tf.expand_dims(input_eval, 0)\n",
        "\n",
        "    # Lista para guardar los resultados\n",
        "    text_generated = []\n",
        "\n",
        "    # Reiniciamos los estados del modelo\n",
        "    model.reset_states()\n",
        "    # iteramos para obtener el número de carácteres deseado\n",
        "    for i in range(text_len):\n",
        "        # obtenemos las predicciones\n",
        "        predictions = model(input_eval)\n",
        "        # removemos el eje de los batch\n",
        "        predictions = tf.squeeze(predictions, 0)\n",
        "        print(predictions[:])\n",
        "        # utilizamos la distribución categorica para obtener el siguiente caracter\n",
        "        #predictions = predictions / temperature\n",
        "        \n",
        "        predicted_id = tf.sigmoid.categorical()\n",
        "        predicted_id = tf.random.categorical(predictions, num_samples=1)[-1,0].numpy()\n",
        "        #print(predicted_id)\n",
        "        # predicted_id es el caracter predicho (este será la entrada en la siguiente iteración)\n",
        "        input_eval = tf.expand_dims([predicted_id], 0)\n",
        "        # agregamos el string correspondiente al id predicho\n",
        "        if idx2char[predicted_id]!=[]:\n",
        "          text_generated.append(idx2char[predicted_id])\n",
        "        else:\n",
        "          if i!=0:\n",
        "            i=i-1\n",
        "    \n",
        "        #predicted_id = tf.argmax(tf.nn.softmax(predictions), 1)[-1,0].numpy()\n",
        "        \n",
        "    return (text_generated[0])#start_string.split(' ')[0]+' http://'+''.join(start_string.split(' ')[1:]) +'/'+'/'.join(text_generated))"
      ],
      "execution_count": null,
      "outputs": []
    },
    {
      "cell_type": "code",
      "metadata": {
        "id": "WLHN4g1Rttly"
      },
      "source": [
        "print(generate_text(model_srnn, start_string=u\"BBHD 198.54.125.95 REGISTRANTDTP:WhoisGuardProtected REGISTRARTDTP:NAMECHEAPINC HOSTINGDTP:NAMEC-4 PAISDTP:PA\", temperature=0.3))"
      ],
      "execution_count": null,
      "outputs": []
    },
    {
      "cell_type": "markdown",
      "metadata": {
        "id": "0UyN_S4r7C_B"
      },
      "source": [
        "Ahora, veamos el resultado con un valor de temperatura alto:"
      ]
    },
    {
      "cell_type": "code",
      "metadata": {
        "id": "YnkzB4Q37jS7"
      },
      "source": [
        "print(generate_text(model_srnn, start_string=u\"ADP adp.com : \", temperature=2.0))"
      ],
      "execution_count": null,
      "outputs": []
    },
    {
      "cell_type": "markdown",
      "metadata": {
        "id": "9DZolo2B8WRU"
      },
      "source": [
        "Lo ideal es encontrar un valor de temperatura apropiado, es decir, donde el texto generado no sea tan repetitivo o determinístico ni tan aleatorio e incoherente, veamos un ejemplo con un valor apropiado:"
      ]
    },
    {
      "cell_type": "code",
      "metadata": {
        "id": "ZWO4Jfwg94n3"
      },
      "source": [
        "print(generate_text(model_srnn, start_string=u\"Dios dijo: \", temperature=0.5))"
      ],
      "execution_count": null,
      "outputs": []
    },
    {
      "cell_type": "markdown",
      "metadata": {
        "id": "yufP-FIO0Jpd"
      },
      "source": [
        "* **LSTM**:"
      ]
    },
    {
      "cell_type": "code",
      "metadata": {
        "id": "fdb6Vv3h0MB2"
      },
      "source": [
        "# creamos un modelo con un tamaño de batche 1 con los pesos del modelo entrenado\n",
        "model_lstm = tf.keras.Sequential([tf.keras.layers.Embedding(vocab_size, embedding_dim,\n",
        "                                                            batch_input_shape=[1, None]),\n",
        "                                  tf.keras.layers.LSTM(rnn_units,\n",
        "                                                       return_sequences=True, #este argumento hace que el modelo sea many-to-many\n",
        "                                                       stateful=True,\n",
        "                                                       recurrent_initializer='glorot_uniform'),\n",
        "                                  tf.keras.layers.Dense(vocab_size)])\n",
        "\n",
        "model_lstm.load_weights(\"lstm.h5\")"
      ],
      "execution_count": null,
      "outputs": []
    },
    {
      "cell_type": "code",
      "metadata": {
        "id": "-DJGEZwu0dLa"
      },
      "source": [
        "model_lstm.summary()"
      ],
      "execution_count": null,
      "outputs": []
    },
    {
      "cell_type": "code",
      "metadata": {
        "id": "fwlj3j660e3C"
      },
      "source": [
        "print(generate_text(model_lstm, start_string=u\"BBHD 63.250.38.253 REGISTRANTDTP:WhoisGuardProtected REGISTRARTDTP:NAMECHEAPINC HOSTINGDTP:NAMEC-4 PAISDTP:PA\"))"
      ],
      "execution_count": null,
      "outputs": []
    },
    {
      "cell_type": "code",
      "metadata": {
        "id": "YF2Bx_l03ran"
      },
      "source": [
        "model_lstm.predict([3, 143, 123, 212])"
      ],
      "execution_count": null,
      "outputs": []
    },
    {
      "cell_type": "markdown",
      "metadata": {
        "id": "JxHW4U6t0tlO"
      },
      "source": [
        "* **GRU**:"
      ]
    },
    {
      "cell_type": "code",
      "metadata": {
        "id": "ywM-7G4L01Gq"
      },
      "source": [
        "# creamos un modelo con un tamaño de batche 1 con los pesos del modelo entrenado\n",
        "model_gru = tf.keras.Sequential([tf.keras.layers.Embedding(vocab_size, embedding_dim,\n",
        "                                                            batch_input_shape=[1, None]),\n",
        "                                 tf.keras.layers.GRU(rnn_units,\n",
        "                                                     return_sequences=True, #este argumento hace que el modelo sea many-to-many\n",
        "                                                     stateful=True,\n",
        "                                                     recurrent_initializer='glorot_uniform'),\n",
        "                                 tf.keras.layers.Dense(vocab_size)])\n",
        "\n",
        "model_gru.load_weights(\"gru.h5\")"
      ],
      "execution_count": null,
      "outputs": []
    },
    {
      "cell_type": "code",
      "metadata": {
        "id": "pjn4Lnbj0_LW"
      },
      "source": [
        "model_gru.summary()"
      ],
      "execution_count": null,
      "outputs": []
    },
    {
      "cell_type": "code",
      "metadata": {
        "id": "-Azwc_Lq1CHn"
      },
      "source": [
        "print(generate_text(model_gru, start_string=u\"SMBC smbcghy.com\"))"
      ],
      "execution_count": null,
      "outputs": []
    },
    {
      "cell_type": "code",
      "metadata": {
        "id": "Fk-_p3xuOfxi"
      },
      "source": [
        ""
      ],
      "execution_count": null,
      "outputs": []
    }
  ]
}